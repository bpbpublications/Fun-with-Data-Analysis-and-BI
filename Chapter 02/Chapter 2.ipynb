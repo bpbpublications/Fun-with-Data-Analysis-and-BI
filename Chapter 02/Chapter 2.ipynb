{
 "cells": [
  {
   "cell_type": "code",
   "execution_count": 1,
   "metadata": {},
   "outputs": [
    {
     "name": "stdout",
     "output_type": "stream",
     "text": [
      "Hello, World!\n"
     ]
    }
   ],
   "source": [
    "# Print \"Hello, World!\"\n",
    "print(\"Hello, World!\")"
   ]
  },
  {
   "cell_type": "code",
   "execution_count": 2,
   "metadata": {
    "scrolled": true
   },
   "outputs": [
    {
     "name": "stdout",
     "output_type": "stream",
     "text": [
      "Enter your name: John\n",
      "Hello John\n"
     ]
    }
   ],
   "source": [
    "# Get user input for name and print a greeting\n",
    "name = input(\"Enter your name: \")\n",
    "print(\"Hello\", name)"
   ]
  },
  {
   "cell_type": "code",
   "execution_count": 3,
   "metadata": {},
   "outputs": [],
   "source": [
    "# Assign a value to the variable \"name\"\n",
    "name = \"John\"\n",
    "# Assign a value to the variable \"age\"\n",
    "age = 25"
   ]
  },
  {
   "cell_type": "code",
   "execution_count": 4,
   "metadata": {},
   "outputs": [
    {
     "name": "stdout",
     "output_type": "stream",
     "text": [
      "John\n",
      "25\n"
     ]
    }
   ],
   "source": [
    "# Print the value of the variable \"name\"\n",
    "print(name)\n",
    "# Print the value of the variable \"age\"\n",
    "print(age)"
   ]
  },
  {
   "cell_type": "code",
   "execution_count": 5,
   "metadata": {},
   "outputs": [],
   "source": [
    "x = 10  # x is an integer data type\n",
    "y = 3.14  # y is a float data type\n",
    "name = \"John\"  # name is a string data type\n",
    "is_student = True  # is_student is a boolean data type"
   ]
  },
  {
   "cell_type": "code",
   "execution_count": 6,
   "metadata": {},
   "outputs": [
    {
     "name": "stdout",
     "output_type": "stream",
     "text": [
      "You are eligible to vote.\n"
     ]
    }
   ],
   "source": [
    "age = 18  # Assigning the value 18 to the variable \"age\"\n",
    "\n",
    "if age >= 18:  # Checking if the age is greater than or equal to 18\n",
    "    print(\"You are eligible to vote.\")\n",
    "else:\n",
    "    print(\"You are not eligible to vote.\")  # This block will not be executed in this case"
   ]
  },
  {
   "cell_type": "code",
   "execution_count": 7,
   "metadata": {},
   "outputs": [
    {
     "name": "stdout",
     "output_type": "stream",
     "text": [
      "apple\n",
      "banana\n",
      "cherry\n"
     ]
    }
   ],
   "source": [
    "fruits = [\"apple\", \"banana\", \"cherry\"]  # Creating a list of fruits\n",
    "for fruit in fruits:  # Iterating over each element in the list\n",
    "    print(fruit)  # Printing each fruit element"
   ]
  },
  {
   "cell_type": "code",
   "execution_count": 8,
   "metadata": {},
   "outputs": [
    {
     "name": "stdout",
     "output_type": "stream",
     "text": [
      "1\n",
      "2\n",
      "3\n",
      "4\n",
      "5\n"
     ]
    }
   ],
   "source": [
    "i = 1  # Initializing the variable \"i\" with the value 1\n",
    "\n",
    "while i <= 5:  # Looping as long as \"i\" is less than or equal to 5\n",
    "    print(i)  # Printing the current value of \"i\"\n",
    "    i += 1  # Incrementing the value of \"i\" by 1 in each iteration"
   ]
  },
  {
   "cell_type": "markdown",
   "metadata": {},
   "source": [
    "# Project 1: Number Guessing"
   ]
  },
  {
   "cell_type": "code",
   "execution_count": 9,
   "metadata": {},
   "outputs": [
    {
     "name": "stdout",
     "output_type": "stream",
     "text": [
      "Welcome to the Number Guessing Game!\n",
      "I have generated a random number between 1 and 100.\n",
      "Enter your guess: 20\n",
      "Too low! Try a higher number.\n",
      "Enter your guess: 80\n",
      "Too low! Try a higher number.\n",
      "Enter your guess: 90\n",
      "Too low! Try a higher number.\n",
      "Enter your guess: 100\n",
      "Too high! Try a lower number.\n",
      "Enter your guess: 95\n",
      "Too low! Try a higher number.\n",
      "Enter your guess: 97\n",
      "Congratulations! You guessed the correct number in 5 attempts.\n",
      "Do you want to play again? (yes/no): no\n",
      "Thank you for playing the Number Guessing Game!\n"
     ]
    }
   ],
   "source": [
    "import random\n",
    "\n",
    "print(\"Welcome to the Number Guessing Game!\")\n",
    "print(\"I have generated a random number between 1 and 100.\")\n",
    "\n",
    "# Generate a random number\n",
    "secret_number = random.randint(1, 100)\n",
    "\n",
    "# Initialize the attempts counter\n",
    "attempts = 0\n",
    "\n",
    "# Start the game loop\n",
    "while True:\n",
    "# Prompt the player to enter their guess\n",
    "    guess = int(input(\"Enter your guess: \"))\n",
    "\n",
    "    # Compare the guess with the secret number\n",
    "    if guess < secret_number:\n",
    "        print(\"Too low! Try a higher number.\")\n",
    "        attempts += 1\n",
    "    elif guess > secret_number:\n",
    "        print(\"Too high! Try a lower number.\")\n",
    "        attempts += 1\n",
    "    else:\n",
    "        # The guess is correct, end the game loop\n",
    "        print(f\"Congratulations! You guessed the correct number in {attempts} attempts.\")\n",
    "        break\n",
    "\n",
    "# Ask the player if they want to play again\n",
    "play_again = input(\"Do you want to play again? (yes/no): \")\n",
    "\n",
    "# Check if the player wants to play again\n",
    "if play_again.lower() == \"yes\":\n",
    "    # Generate a new random number\n",
    "    secret_number = random.randint(1, 100)\n",
    "    # Reset the attempts counter\n",
    "    attempts = 0\n",
    "\n",
    "    # Start a new game loop\n",
    "    while True:\n",
    "        # Prompt the player to enter their guess\n",
    "        guess = int(input(\"Enter your guess: \"))\n",
    "\n",
    "        # Compare the guess with the secret number\n",
    "        if guess < secret_number:\n",
    "            print(\"Too low! Try a higher number.\")\n",
    "            attempts += 1\n",
    "        elif guess > secret_number:\n",
    "            print(\"Too high! Try a lower number.\")\n",
    "            attempts += 1\n",
    "        else:\n",
    "            # The guess is correct, end the game loop\n",
    "            print(f\"Congratulations! You guessed the correct number in {attempts} attempts.\")\n",
    "            break\n",
    "else:\n",
    "    # The player doesn't want to play again, end the game\n",
    "    print(\"Thank you for playing the Number Guessing Game!\")"
   ]
  },
  {
   "cell_type": "markdown",
   "metadata": {},
   "source": [
    "# Project 2: Rock Paper Scissors"
   ]
  },
  {
   "cell_type": "code",
   "execution_count": 12,
   "metadata": {},
   "outputs": [
    {
     "name": "stdout",
     "output_type": "stream",
     "text": [
      "Welcome to Rock Paper Scissors!\n",
      "Let's play!\n",
      "Choose your move (rock, paper, or scissors): paper\n",
      "\n",
      "You chose: paper\n",
      "Computer chose: rock\n",
      "You win!\n",
      "\n",
      "--- Score ---\n",
      "You: 1   Computer: 0\n",
      "\n",
      "Do you want to play again? (yes/no): yes\n",
      "Choose your move (rock, paper, or scissors): rock\n",
      "\n",
      "You chose: rock\n",
      "Computer chose: paper\n",
      "Computer wins!\n",
      "\n",
      "--- Score ---\n",
      "You: 1   Computer: 1\n",
      "\n",
      "Do you want to play again? (yes/no): no\n",
      "\n",
      "Thank you for playing Rock Paper Scissors!\n"
     ]
    }
   ],
   "source": [
    "import random\n",
    "\n",
    "print(\"Welcome to Rock Paper Scissors!\")\n",
    "print(\"Let's play!\")\n",
    "\n",
    "player_score = 0\n",
    "computer_score = 0\n",
    "\n",
    "while True:\n",
    "    # Prompt the player to choose their move\n",
    "    player_move = input(\"Choose your move (rock, paper, or scissors): \")\n",
    "\n",
    "    # Generate a random move for the computer\n",
    "    moves = [\"rock\", \"paper\", \"scissors\"]\n",
    "    computer_move = random.choice(moves)\n",
    "\n",
    "    # Compare the player's move with the computer's move to determine the winner\n",
    "    if player_move == computer_move:\n",
    "        result = \"It's a tie!\"\n",
    "    elif (\n",
    "        (player_move == \"rock\" and computer_move == \"scissors\") or\n",
    "        (player_move == \"paper\" and computer_move == \"rock\") or\n",
    "        (player_move == \"scissors\" and computer_move == \"paper\")\n",
    "    ):\n",
    "        result = \"You win!\"\n",
    "        player_score += 1\n",
    "    else:\n",
    "        result = \"Computer wins!\"\n",
    "        computer_score += 1\n",
    "\n",
    "    # Display the player's move, the computer's move, and the outcome\n",
    "    print(f\"\\nYou chose: {player_move}\")\n",
    "    print(f\"Computer chose: {computer_move}\")\n",
    "    print(result)\n",
    "\n",
    "    # Keep track of the score and display it after each round\n",
    "    print(\"\\n--- Score ---\")\n",
    "    print(f\"You: {player_score}   Computer: {computer_score}\")\n",
    "\n",
    "    # Ask the player if they want to continue playing\n",
    "    play_again = input(\"\\nDo you want to play again? (yes/no): \")\n",
    "    if play_again.lower() != \"yes\":\n",
    "        break\n",
    "\n",
    "print(\"\\nThank you for playing Rock Paper Scissors!\")"
   ]
  },
  {
   "cell_type": "markdown",
   "metadata": {},
   "source": [
    "# Project 3: Dice Roll Generator"
   ]
  },
  {
   "cell_type": "code",
   "execution_count": 13,
   "metadata": {},
   "outputs": [
    {
     "name": "stdout",
     "output_type": "stream",
     "text": [
      "Welcome to the Dice Roll Generator!\n",
      "Press Enter to roll the dice (or type 'exit' to quit): \n",
      "The dice rolled: 4\n",
      "Press Enter to roll the dice (or type 'exit' to quit): \n",
      "The dice rolled: 5\n",
      "Press Enter to roll the dice (or type 'exit' to quit): exit\n",
      "Thank you for using the Dice Roll Generator!\n"
     ]
    }
   ],
   "source": [
    "import random\n",
    "\n",
    "print(\"Welcome to the Dice Roll Generator!\")\n",
    "\n",
    "while True:\n",
    "    # Prompt the user to roll the dice\n",
    "    roll_dice = input(\"Press Enter to roll the dice (or type 'exit' to quit): \")\n",
    "\n",
    "    if roll_dice.lower() == \"exit\":\n",
    "        # The user wants to exit the program\n",
    "        print(\"Thank you for using the Dice Roll Generator!\")\n",
    "        break\n",
    "\n",
    "    # Generate a random number between 1 and 6\n",
    "    dice_roll = random.randint(1, 6)\n",
    "\n",
    "    # Display the generated number as the result of the dice roll\n",
    "    print(f\"The dice rolled: {dice_roll}\")"
   ]
  },
  {
   "cell_type": "markdown",
   "metadata": {},
   "source": [
    "# Numpy"
   ]
  },
  {
   "cell_type": "markdown",
   "metadata": {},
   "source": [
    "### Creating an array"
   ]
  },
  {
   "cell_type": "code",
   "execution_count": 14,
   "metadata": {},
   "outputs": [],
   "source": [
    "import numpy as np"
   ]
  },
  {
   "cell_type": "code",
   "execution_count": 15,
   "metadata": {},
   "outputs": [],
   "source": [
    "# Create a 1-dimensional array\n",
    "arr1 = np.array([1, 2, 3, 4, 5])\n",
    "# Create a 2-dimensional array\n",
    "arr2 = np.array([[1, 2, 3], [4, 5, 6]])"
   ]
  },
  {
   "cell_type": "code",
   "execution_count": 16,
   "metadata": {},
   "outputs": [
    {
     "data": {
      "text/plain": [
       "array([1, 2, 3, 4, 5])"
      ]
     },
     "execution_count": 16,
     "metadata": {},
     "output_type": "execute_result"
    }
   ],
   "source": [
    "# To print the arr1\n",
    "arr1"
   ]
  },
  {
   "cell_type": "code",
   "execution_count": 17,
   "metadata": {},
   "outputs": [
    {
     "data": {
      "text/plain": [
       "array([[1, 2, 3],\n",
       "       [4, 5, 6]])"
      ]
     },
     "execution_count": 17,
     "metadata": {},
     "output_type": "execute_result"
    }
   ],
   "source": [
    "# To print the arr2\n",
    "arr2"
   ]
  },
  {
   "cell_type": "markdown",
   "metadata": {},
   "source": [
    "### Array operations"
   ]
  },
  {
   "cell_type": "code",
   "execution_count": 18,
   "metadata": {},
   "outputs": [
    {
     "name": "stdout",
     "output_type": "stream",
     "text": [
      "Adding 2 to each element: [3 4 5 6 7]\n",
      "Subtracting 2 from each element: [-1  0  1  2  3]\n",
      "Multiplying each element by 2: [ 2  4  6  8 10]\n",
      "Dividing each element by 2: [0.5 1.  1.5 2.  2.5]\n",
      "Raising each element to the power of 2: [ 1  4  9 16 25]\n"
     ]
    }
   ],
   "source": [
    "arr = np.array([1, 2, 3, 4, 5])\n",
    "\n",
    "# Perform arithmetic operations on the array\n",
    "arr_add = arr + 2\n",
    "arr_sub = arr - 2\n",
    "arr_mul = arr * 2\n",
    "arr_div = arr / 2\n",
    "arr_pow = arr ** 2\n",
    "\n",
    "# Showing the results\n",
    "print(f\"Adding 2 to each element: {arr_add}\")\n",
    "print(f\"Subtracting 2 from each element: {arr_sub}\")\n",
    "print(f\"Multiplying each element by 2: {arr_mul}\")\n",
    "print(f\"Dividing each element by 2: {arr_div}\")\n",
    "print(f\"Raising each element to the power of 2: {arr_pow}\")"
   ]
  },
  {
   "cell_type": "markdown",
   "metadata": {},
   "source": [
    "### Indexing and Slicing"
   ]
  },
  {
   "cell_type": "code",
   "execution_count": 19,
   "metadata": {},
   "outputs": [
    {
     "name": "stdout",
     "output_type": "stream",
     "text": [
      "First element: 1\n",
      "Last element: 5\n",
      "Array elements from index 1 to 3: [2 3 4]\n",
      "Array elements from index 2 onwards: [3 4 5]\n",
      "Array elements up to index 3: [1 2 3 4]\n"
     ]
    }
   ],
   "source": [
    "# Create a 1D array\n",
    "arr = np.array([1, 2, 3, 4, 5])\n",
    "\n",
    "# Accessing elements using indexing\n",
    "print(f\"First element: {arr[0]}\")\n",
    "print(f\"Last element: {arr[-1]}\")\n",
    "\n",
    "# Slicing the array\n",
    "print(f\"Array elements from index 1 to 3: {arr[1:4]}\")\n",
    "print(f\"Array elements from index 2 onwards: {arr[2:]}\")\n",
    "print(f\"Array elements up to index 3: {arr[:4]}\")"
   ]
  },
  {
   "cell_type": "markdown",
   "metadata": {},
   "source": [
    "# Pandas"
   ]
  },
  {
   "cell_type": "markdown",
   "metadata": {},
   "source": [
    "### Series"
   ]
  },
  {
   "cell_type": "code",
   "execution_count": 20,
   "metadata": {},
   "outputs": [],
   "source": [
    "import pandas as pd"
   ]
  },
  {
   "cell_type": "code",
   "execution_count": 21,
   "metadata": {},
   "outputs": [],
   "source": [
    "# Create a Series from a list\n",
    "data = [10, 20, 30, 40, 50]\n",
    "series = pd.Series(data)"
   ]
  },
  {
   "cell_type": "code",
   "execution_count": 22,
   "metadata": {},
   "outputs": [],
   "source": [
    "# Accessing and manipulating data"
   ]
  },
  {
   "cell_type": "code",
   "execution_count": 23,
   "metadata": {},
   "outputs": [
    {
     "name": "stdout",
     "output_type": "stream",
     "text": [
      "0    10\n",
      "1    20\n",
      "2    30\n",
      "3    40\n",
      "4    50\n",
      "dtype: int64\n"
     ]
    }
   ],
   "source": [
    "print(series)"
   ]
  },
  {
   "cell_type": "code",
   "execution_count": 24,
   "metadata": {},
   "outputs": [
    {
     "name": "stdout",
     "output_type": "stream",
     "text": [
      "30\n"
     ]
    }
   ],
   "source": [
    "print(series[2])"
   ]
  },
  {
   "cell_type": "code",
   "execution_count": 25,
   "metadata": {},
   "outputs": [
    {
     "name": "stdout",
     "output_type": "stream",
     "text": [
      "0     20\n",
      "1     40\n",
      "2     60\n",
      "3     80\n",
      "4    100\n",
      "dtype: int64\n"
     ]
    }
   ],
   "source": [
    "series = series * 2\n",
    "print(series)"
   ]
  },
  {
   "cell_type": "code",
   "execution_count": 26,
   "metadata": {},
   "outputs": [
    {
     "name": "stdout",
     "output_type": "stream",
     "text": [
      "a    10\n",
      "b    20\n",
      "c    30\n",
      "dtype: int64\n"
     ]
    }
   ],
   "source": [
    "# Creating a Series with custom index\n",
    "data = {'a': 10, 'b': 20, 'c': 30}\n",
    "series = pd.Series(data)\n",
    "\n",
    "print(series)"
   ]
  },
  {
   "cell_type": "markdown",
   "metadata": {},
   "source": [
    "### DataFrame"
   ]
  },
  {
   "cell_type": "code",
   "execution_count": 27,
   "metadata": {},
   "outputs": [
    {
     "name": "stdout",
     "output_type": "stream",
     "text": [
      "    Name  Age      City\n",
      "0   John   25  New York\n",
      "1   Emma   30     Paris\n",
      "2  Peter   27    London\n",
      "3   Lisa   32     Tokyo\n"
     ]
    }
   ],
   "source": [
    "# Create a DataFrame\n",
    "data = {'Name': ['John', 'Emma', 'Peter', 'Lisa'],\n",
    "        'Age': [25, 30, 27, 32],\n",
    "        'City': ['New York', 'Paris', 'London', 'Tokyo']\n",
    "       }\n",
    "df = pd.DataFrame(data)\n",
    "# Printing the DataFrame\n",
    "print(df)"
   ]
  },
  {
   "cell_type": "code",
   "execution_count": 28,
   "metadata": {},
   "outputs": [
    {
     "name": "stdout",
     "output_type": "stream",
     "text": [
      "0     John\n",
      "1     Emma\n",
      "2    Peter\n",
      "3     Lisa\n",
      "Name: Name, dtype: object\n"
     ]
    }
   ],
   "source": [
    "# Accessing column names \n",
    "print(df['Name'])"
   ]
  },
  {
   "cell_type": "code",
   "execution_count": 29,
   "metadata": {},
   "outputs": [
    {
     "name": "stdout",
     "output_type": "stream",
     "text": [
      "   Name  Age   City\n",
      "1  Emma   30  Paris\n",
      "3  Lisa   32  Tokyo\n"
     ]
    }
   ],
   "source": [
    "# Filtering based on a condition\n",
    "filtered_df = df[df['Age'] > 27]\n",
    "print(filtered_df)"
   ]
  },
  {
   "cell_type": "markdown",
   "metadata": {},
   "source": [
    "# Matplotlib"
   ]
  },
  {
   "cell_type": "markdown",
   "metadata": {},
   "source": [
    "### Line Plot"
   ]
  },
  {
   "cell_type": "code",
   "execution_count": 30,
   "metadata": {},
   "outputs": [],
   "source": [
    "import matplotlib.pyplot as plt"
   ]
  },
  {
   "cell_type": "code",
   "execution_count": 31,
   "metadata": {},
   "outputs": [
    {
     "data": {
      "image/png": "[encoded data removed]",
      "text/plain": [
       "<Figure size 432x288 with 1 Axes>"
      ]
     },
     "metadata": {
      "needs_background": "light"
     },
     "output_type": "display_data"
    }
   ],
   "source": [
    "x = [1, 2, 3, 4, 5]\n",
    "y = [2, 4, 6, 8, 10]\n",
    "\n",
    "plt.plot(x, y)\n",
    "plt.xlabel('X-axis')\n",
    "plt.ylabel('Y-axis')\n",
    "plt.title('Line-Plot')\n",
    "plt.show()"
   ]
  },
  {
   "cell_type": "markdown",
   "metadata": {},
   "source": [
    "### "
   ]
  },
  {
   "cell_type": "markdown",
   "metadata": {},
   "source": [
    "### Bar Chart"
   ]
  },
  {
   "cell_type": "code",
   "execution_count": 32,
   "metadata": {},
   "outputs": [
    {
     "data": {
      "image/png": "[encoded data removed]",
      "text/plain": [
       "<Figure size 432x288 with 1 Axes>"
      ]
     },
     "metadata": {
      "needs_background": "light"
     },
     "output_type": "display_data"
    }
   ],
   "source": [
    "x = ['A', 'B', 'C', 'D']\n",
    "y = [10, 7, 5, 8]\n",
    "\n",
    "plt.bar(x, y)\n",
    "plt.xlabel('Categories')\n",
    "plt.ylabel('Values')\n",
    "plt.title('Bar Chart')\n",
    "plt.show()"
   ]
  },
  {
   "cell_type": "code",
   "execution_count": null,
   "metadata": {},
   "outputs": [],
   "source": []
  }
 ],
 "metadata": {
  "kernelspec": {
   "display_name": "Python 3",
   "language": "python",
   "name": "python3"
  },
  "language_info": {
   "codemirror_mode": {
    "name": "ipython",
    "version": 3
   },
   "file_extension": ".py",
   "mimetype": "text/x-python",
   "name": "python",
   "nbconvert_exporter": "python",
   "pygments_lexer": "ipython3",
   "version": "3.8.5"
  }
 },
 "nbformat": 4,
 "nbformat_minor": 4
}
